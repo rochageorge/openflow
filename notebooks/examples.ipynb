{
 "cells": [
  {
   "cell_type": "markdown",
   "id": "2f4637ff-1399-41ae-ab2b-ac1938ae418e",
   "metadata": {},
   "source": [
    "## Data passing tutorial\n",
    "Data passing is the most important aspect of Pipelines.\n",
    "\n",
    "In Kubeflow Pipelines, the pipeline authors compose pipelines by creating component instances (tasks) and connecting them together.\n",
    "\n",
    "Component have inputs and outputs. They can consume and produce arbitrary data.\n",
    "\n",
    "Pipeline authors establish connections between component tasks by connecting their data inputs and outputs - by passing the output of one task as an argument to another task's input.\n",
    "\n",
    "The system takes care of storing the data produced by components and later passing that data to other components for consumption as instructed by the pipeline.\n",
    "\n",
    "This tutorial shows how to create python components that produce, consume and transform data. It shows how to create data passing pipelines by instantiating components and connecting them together."
   ]
  },
  {
   "cell_type": "code",
   "execution_count": 1,
   "id": "da211ee1-dcdb-419b-b42d-9c70d04eb150",
   "metadata": {},
   "outputs": [],
   "source": [
    "# Put your KFP cluster endpoint URL here if working from GCP notebooks (or local notebooks). \n",
    "#('https://xxxxx.notebooks.googleusercontent.com/')\n",
    "# kfp_endpoint='https://XXXXX.{pipelines|notebooks}.googleusercontent.com/'"
   ]
  },
  {
   "cell_type": "code",
   "execution_count": 2,
   "id": "d147f221-53c9-4aae-a595-562b8e454b20",
   "metadata": {},
   "outputs": [],
   "source": [
    "# Install Kubeflow Pipelines SDK. Add the --user argument if you get permission errors.\n",
    "!PIP_DISABLE_PIP_VERSION_CHECK=1 python3 -m pip install 'kfp>=1.4.0' --quiet --user\n",
    "from typing import NamedTuple"
   ]
  },
  {
   "cell_type": "code",
   "execution_count": 3,
   "id": "cc9bb1ef-4e33-4e56-a963-21e1c51b7ac8",
   "metadata": {},
   "outputs": [],
   "source": [
    "import kfp\n",
    "from kfp.components import InputPath, InputTextFile, OutputPath, OutputTextFile\n",
    "from kfp.components import func_to_container_op"
   ]
  },
  {
   "cell_type": "markdown",
   "id": "da384e44-2cde-4f70-8071-c224b62f736c",
   "metadata": {},
   "source": [
    "## Small data\n",
    "Small data is the data that you'll be comfortable passing as program's command-line argument. Small data size should not exceed few kilobytes.\n",
    "\n",
    "Some examples of typical types of small data are: number, URL, small string (e.g. column name).\n",
    "\n",
    "Small lists, dictionaries and JSON structures are fine, but keep an eye on the size and consider switching to file-based data passing methods taht are more suitable for bigger data (more than several kilobytes) or binary data.\n",
    "\n",
    "All small data outputs will be at some point serialized to strings and all small data input values will be at some point deserialized from strings (passed as command-line argumants). There are built-in serializers and deserializers for several common types (e.g. str, int, float, bool, list, dict). All other types of data need to be serialized manually before returning the data. Make sure to properly specify type annotations, otherwize there would be no automatic deserialization and the component function will receive strings instead of deserialized objects.\n",
    "\n",
    "### Consuming small data"
   ]
  },
  {
   "cell_type": "code",
   "execution_count": 32,
   "id": "0adf4783-834a-4220-98cd-c89676662e16",
   "metadata": {},
   "outputs": [],
   "source": [
    "@func_to_container_op\n",
    "def print_small_text(text: str):\n",
    "    '''Print small text'''\n",
    "    print(text)\n",
    "\n",
    "def constant_to_consumer_pipeline():\n",
    "    '''Pipeline that passes small constant string to to consumer'''\n",
    "    consume_task = print_small_text('Hello world') # Passing constant as argument to consumer\n",
    "\n",
    "# kfp.Client(host=kfp_endpoint).create_run_from_pipeline_func(constant_to_consumer_pipeline, arguments={})\n",
    "\n",
    "# Creating the yaml pipeline\n",
    "base_dir='/home/jovyan/pipeline/'\n",
    "pipe_name=base_dir+'constant_to_consumer_pipeline'\n",
    "kfp.compiler.Compiler().compile(constant_to_consumer_pipeline,pipe_name + '.yaml')"
   ]
  },
  {
   "cell_type": "code",
   "execution_count": 8,
   "id": "5f42bd19-3683-44fa-b76b-17f798a819b1",
   "metadata": {},
   "outputs": [],
   "source": [
    "def pipeline_parameter_to_consumer_pipeline(text: str):\n",
    "    '''Pipeline that passes small pipeline parameter string to to consumer'''\n",
    "    consume_task = print_small_text(text) # Passing pipeline parameter as argument to consumer\n",
    "\n",
    "# kfp.Client(host=kfp_endpoint).create_run_from_pipeline_func(\n",
    "#     pipeline_parameter_to_consumer_pipeline,\n",
    "#     arguments={'text': 'Hello world'}\n",
    "# )\n",
    "\n",
    "# # Creating the yaml pipeline\n",
    "# base_dir='/home/jovyan/pipeline/'\n",
    "# pipe_name=base_dir+'constant_to_consumer_pipeline'\n",
    "# kfp.compiler.Compiler().compile(constant_to_consumer_pipeline,pipe_name + '.yaml')"
   ]
  },
  {
   "cell_type": "markdown",
   "id": "d623396a-bc45-4c1b-8485-17876ca42bd4",
   "metadata": {},
   "source": [
    "### Producing small data"
   ]
  },
  {
   "cell_type": "code",
   "execution_count": 33,
   "id": "da0e0d4c-c113-4d55-9ce9-a24d869a2529",
   "metadata": {},
   "outputs": [],
   "source": [
    "@func_to_container_op\n",
    "def produce_one_small_output() -> str:\n",
    "    return 'Hello world'\n",
    "\n",
    "def task_output_to_consumer_pipeline():\n",
    "    '''Pipeline that passes small data from producer to consumer'''\n",
    "    produce_task = produce_one_small_output()\n",
    "    # Passing producer task output as argument to consumer\n",
    "    consume_task1 = print_small_text(produce_task.output) # task.output only works for single-output components\n",
    "    consume_task2 = print_small_text(produce_task.outputs['output']) # task.outputs[...] always works\n",
    "\n",
    "# kfp.Client(host=kfp_endpoint).create_run_from_pipeline_func(task_output_to_consumer_pipeline, arguments={})\n",
    "\n",
    "# Creating the yaml pipeline\n",
    "base_dir='/home/jovyan/pipeline/'\n",
    "pipe_name=base_dir+'task_output_to_consumer_pipeline'\n",
    "kfp.compiler.Compiler().compile(task_output_to_consumer_pipeline,pipe_name + '.yaml')"
   ]
  },
  {
   "cell_type": "markdown",
   "id": "0206672f-26d9-4a5f-8bb0-b9e924ab8d36",
   "metadata": {},
   "source": [
    "### Producing and consuming multiple arguments"
   ]
  },
  {
   "cell_type": "code",
   "execution_count": 34,
   "id": "2724acad-51ec-489c-9107-544e818fc0ac",
   "metadata": {},
   "outputs": [],
   "source": [
    "@func_to_container_op\n",
    "def produce_two_small_outputs() -> NamedTuple('Outputs', [('text', str), ('number', int)]):\n",
    "    return (\"data 1\", 42)\n",
    "\n",
    "@func_to_container_op\n",
    "def consume_two_arguments(text: str, number: int):\n",
    "    print('Text={}'.format(text))\n",
    "    print('Number={}'.format(str(number)))\n",
    "\n",
    "def producers_to_consumers_pipeline(text: str = \"Hello world\"):\n",
    "    '''Pipeline that passes data from producer to consumer'''\n",
    "    produce1_task = produce_one_small_output()\n",
    "    produce2_task = produce_two_small_outputs()\n",
    "\n",
    "    consume_task1 = consume_two_arguments(produce1_task.output, 42)\n",
    "    consume_task2 = consume_two_arguments(text, produce2_task.outputs['number'])\n",
    "    consume_task3 = consume_two_arguments(produce2_task.outputs['text'], produce2_task.outputs['number'])\n",
    "\n",
    "\n",
    "# kfp.Client(host=kfp_endpoint).create_run_from_pipeline_func(producers_to_consumers_pipeline, arguments={})\n",
    "\n",
    "\n",
    "# Creating the yaml pipeline\n",
    "base_dir='/home/jovyan/pipeline/'\n",
    "pipe_name=base_dir+'producers_to_consumers_pipeline'\n",
    "kfp.compiler.Compiler().compile(producers_to_consumers_pipeline,pipe_name + '.yaml')"
   ]
  },
  {
   "cell_type": "markdown",
   "id": "d0d158fe-d1d5-45cb-a54d-b2da3f081610",
   "metadata": {
    "tags": []
   },
   "source": [
    "### Consuming and producing data at the same time"
   ]
  },
  {
   "cell_type": "code",
   "execution_count": 35,
   "id": "b09f93c9-337f-466a-9ae6-a90f0ce94bd0",
   "metadata": {},
   "outputs": [],
   "source": [
    "@func_to_container_op\n",
    "def get_item_from_list(list_of_strings: list, index: int) -> str:\n",
    "    return list_of_strings[index]\n",
    "\n",
    "@func_to_container_op\n",
    "def truncate_text(text: str, max_length: int) -> str:\n",
    "    return text[0:max_length]\n",
    "\n",
    "def processing_pipeline(text: str = \"Hello world\"):\n",
    "    truncate_task = truncate_text(text, max_length=5)\n",
    "    get_item_task = get_item_from_list(list_of_strings=[3, 1, truncate_task.output, 1, 5, 9, 2, 6, 7], index=2)\n",
    "    print_small_text(get_item_task.output)\n",
    "\n",
    "\n",
    "# kfp.Client(host=kfp_endpoint).create_run_from_pipeline_func(processing_pipeline, arguments={})\n",
    "\n",
    "# Creating the yaml pipeline\n",
    "base_dir='/home/jovyan/pipeline/'\n",
    "pipe_name=base_dir+'processing_pipeline'\n",
    "kfp.compiler.Compiler().compile(processing_pipeline,pipe_name + '.yaml')"
   ]
  },
  {
   "cell_type": "markdown",
   "id": "69c7150b-a8df-40f4-b75d-d0a67c2073fd",
   "metadata": {},
   "source": [
    "## Bigger data (files)\n",
    "Bigger data should be read from files and written to files.\n",
    "\n",
    "The paths for the input and output files are chosen by the system and are passed into the function (as strings).\n",
    "\n",
    "Use the InputPath parameter annotation to tell the system that the function wants to consume the corresponding input data as a file. The system will download the data, write it to a local file and then pass the path of that file to the function.\n",
    "\n",
    "Use the OutputPath parameter annotation to tell the system that the function wants to produce the corresponding output data as a file. The system will prepare and pass the path of a file where the function should write the output data. After the function exits, the system will upload the data to the storage system so that it can be passed to downstream components.\n",
    "\n",
    "You can specify the type of the consumed/produced data by specifying the type argument to InputPath and OutputPath. The type can be a python type or an arbitrary type name string. OutputPath('TFModel') means that the function states that the data it has written to a file has type 'TFModel'. InputPath('TFModel') means that the function states that it expect the data it reads from a file to have type 'TFModel'. When the pipeline author connects inputs to outputs the system checks whether the types match.\n",
    "\n",
    "Note on input/output names: When the function is converted to component, the input and output names generally follow the parameter names, but the \"_path\" and \"_file\" suffixes are stripped from file/path inputs and outputs. E.g. the number_file_path: InputPath(int) parameter becomes the number: int input. This makes the argument passing look more natural: number=42 instead of number_file_path=42.\n",
    "\n",
    "### Writing and reading bigger data"
   ]
  },
  {
   "cell_type": "code",
   "execution_count": 15,
   "id": "9bce16d8-920d-49ad-a710-71d4142eff6f",
   "metadata": {},
   "outputs": [],
   "source": [
    "# Writing bigger data\n",
    "@func_to_container_op\n",
    "def repeat_line(line: str, output_text_path: OutputPath(str), count: int = 10):\n",
    "    '''Repeat the line specified number of times'''\n",
    "    with open(output_text_path, 'w') as writer:\n",
    "        for i in range(count):\n",
    "            writer.write(line + '\\n')\n",
    "\n",
    "\n",
    "# Reading bigger data\n",
    "@func_to_container_op\n",
    "def print_text(text_path: InputPath()): # The \"text\" input is untyped so that any data can be printed\n",
    "    '''Print text'''\n",
    "    with open(text_path, 'r') as reader:\n",
    "        for line in reader:\n",
    "            print(line, end = '')\n",
    "\n",
    "def print_repeating_lines_pipeline():\n",
    "    repeat_lines_task = repeat_line(line='Hello', count=5000)\n",
    "    print_text(repeat_lines_task.output) # Don't forget .output !\n",
    "\n",
    "# kfp.Client(host=kfp_endpoint).create_run_from_pipeline_func(print_repeating_lines_pipeline, arguments={})"
   ]
  },
  {
   "cell_type": "markdown",
   "id": "96c14242-1441-401f-8c76-d4c01bbc8bd1",
   "metadata": {},
   "source": [
    "### Processing bigger data"
   ]
  },
  {
   "cell_type": "code",
   "execution_count": 17,
   "id": "48c81522-f52b-40f8-afa2-2f573e2ee392",
   "metadata": {},
   "outputs": [],
   "source": [
    "@func_to_container_op\n",
    "def split_text_lines(source_path: InputPath(str), \n",
    "                     odd_lines_path: OutputPath(str), \n",
    "                     even_lines_path: OutputPath(str)):\n",
    "    with open(source_path, 'r') as reader:\n",
    "        with open(odd_lines_path, 'w') as odd_writer:\n",
    "            with open(even_lines_path, 'w') as even_writer:\n",
    "                while True:\n",
    "                    line = reader.readline()\n",
    "                    if line == \"\":\n",
    "                        break\n",
    "                    odd_writer.write(line)\n",
    "                    line = reader.readline()\n",
    "                    if line == \"\":\n",
    "                        break\n",
    "                    even_writer.write(line)\n",
    "\n",
    "def text_splitting_pipeline():\n",
    "    text = '\\n'.join(['one', 'two', 'three', 'four', 'five', 'six', 'seven', 'eight', 'nine', 'ten'])\n",
    "    split_text_task = split_text_lines(text)\n",
    "    print_text(split_text_task.outputs['odd_lines'])\n",
    "    print_text(split_text_task.outputs['even_lines'])\n",
    "\n",
    "# kfp.Client(host=kfp_endpoint).create_run_from_pipeline_func(text_splitting_pipeline, arguments={})"
   ]
  },
  {
   "cell_type": "markdown",
   "id": "227ba60d-a8ab-470d-b7bf-2784cb7eba38",
   "metadata": {},
   "source": [
    "### Processing bigger data with pre-opened files"
   ]
  },
  {
   "cell_type": "code",
   "execution_count": 20,
   "id": "2a7513da-3b04-4cda-9ad9-eed8428e0afa",
   "metadata": {},
   "outputs": [],
   "source": [
    "@func_to_container_op\n",
    "def split_text_lines2(source_file: InputTextFile(str), \n",
    "                      odd_lines_file: OutputTextFile(str), \n",
    "                      even_lines_file: OutputTextFile(str)):\n",
    "    while True:\n",
    "        line = source_file.readline()\n",
    "        if line == \"\":\n",
    "            break\n",
    "        odd_lines_file.write(line)\n",
    "        line = source_file.readline()\n",
    "        if line == \"\":\n",
    "            break\n",
    "        even_lines_file.write(line)\n",
    "\n",
    "def text_splitting_pipeline2():\n",
    "    text = '\\n'.join(['one', 'two', 'three', 'four', 'five', 'six', 'seven', 'eight', 'nine', 'ten'])\n",
    "    split_text_task = split_text_lines2(text)\n",
    "    print_text(split_text_task.outputs['odd_lines']).set_display_name('Odd lines')\n",
    "    print_text(split_text_task.outputs['even_lines']).set_display_name('Even lines')\n",
    "\n",
    "# kfp.Client(host=kfp_endpoint).create_run_from_pipeline_func(text_splitting_pipeline2, arguments={})"
   ]
  },
  {
   "cell_type": "markdown",
   "id": "42192b0d-fcf8-4a55-9cbe-c0178d4b4300",
   "metadata": {},
   "source": [
    "### Example: Pipeline that generates then sums many numbers"
   ]
  },
  {
   "cell_type": "code",
   "execution_count": 28,
   "id": "594c856b-000f-49ec-9512-33a08e4916f8",
   "metadata": {},
   "outputs": [],
   "source": [
    "# Writing many numbers\n",
    "@func_to_container_op\n",
    "def write_numbers(numbers_path: OutputPath(str), start: int = 0, count: int = 10):\n",
    "    with open(numbers_path, 'w') as writer:\n",
    "        for i in range(start, count):\n",
    "            writer.write(str(i) + '\\n')\n",
    "\n",
    "\n",
    "# Reading and summing many numbers\n",
    "@func_to_container_op\n",
    "def sum_numbers(numbers_path: InputPath(str)) -> int:\n",
    "    sum = 0\n",
    "    with open(numbers_path, 'r') as reader:\n",
    "        for line in reader:\n",
    "            sum = sum + int(line)\n",
    "    return sum\n",
    "\n",
    "\n",
    "\n",
    "# Pipeline to sum 100000 numbers\n",
    "def sum_pipeline(count: 'Integer' = 100000):\n",
    "    numbers_task = write_numbers(count=count)\n",
    "    print_text(numbers_task.output)\n",
    "\n",
    "    sum_task = sum_numbers(numbers_task.outputs['numbers'])\n",
    "    print_text(sum_task.output)\n",
    "\n",
    "\n",
    "# Running the pipeline\n",
    "# kfp.Client(host=kfp_endpoint).create_run_from_pipeline_func(sum_pipeline, arguments={})\n",
    "\n",
    "# Creating the yaml pipeline\n",
    "base_dir='/home/jovyan/pipeline/'\n",
    "pipe_name=base_dir+'sum_pipeline'\n",
    "kfp.compiler.Compiler().compile(sum_pipeline,pipe_name + '.yaml')"
   ]
  },
  {
   "cell_type": "code",
   "execution_count": null,
   "id": "7056dae5-1703-44a1-a01d-3615fef51189",
   "metadata": {},
   "outputs": [],
   "source": []
  },
  {
   "cell_type": "code",
   "execution_count": null,
   "id": "c618ff66-9f6e-47cf-912b-f959aea65551",
   "metadata": {},
   "outputs": [],
   "source": []
  }
 ],
 "metadata": {
  "kernelspec": {
   "display_name": "Python 3",
   "language": "python",
   "name": "python3"
  },
  "language_info": {
   "codemirror_mode": {
    "name": "ipython",
    "version": 3
   },
   "file_extension": ".py",
   "mimetype": "text/x-python",
   "name": "python",
   "nbconvert_exporter": "python",
   "pygments_lexer": "ipython3",
   "version": "3.8.10"
  }
 },
 "nbformat": 4,
 "nbformat_minor": 5
}
